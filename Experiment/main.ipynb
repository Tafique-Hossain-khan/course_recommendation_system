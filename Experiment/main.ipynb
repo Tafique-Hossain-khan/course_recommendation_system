{
 "cells": [
  {
   "cell_type": "code",
   "execution_count": 2,
   "metadata": {},
   "outputs": [],
   "source": [
    "import pandas as pd\n",
    "import numpy as np\n",
    "import string\n",
    "from nltk.corpus import stopwords\n",
    "from sklearn.metrics.pairwise import cosine_similarity\n",
    "from sklearn.feature_extraction.text import TfidfVectorizer,CountVectorizer"
   ]
  },
  {
   "cell_type": "code",
   "execution_count": 3,
   "metadata": {},
   "outputs": [],
   "source": [
    "df = pd.read_csv('udemy_course_data.csv')"
   ]
  },
  {
   "cell_type": "code",
   "execution_count": 4,
   "metadata": {},
   "outputs": [
    {
     "data": {
      "text/html": [
       "<div>\n",
       "<style scoped>\n",
       "    .dataframe tbody tr th:only-of-type {\n",
       "        vertical-align: middle;\n",
       "    }\n",
       "\n",
       "    .dataframe tbody tr th {\n",
       "        vertical-align: top;\n",
       "    }\n",
       "\n",
       "    .dataframe thead th {\n",
       "        text-align: right;\n",
       "    }\n",
       "</style>\n",
       "<table border=\"1\" class=\"dataframe\">\n",
       "  <thead>\n",
       "    <tr style=\"text-align: right;\">\n",
       "      <th></th>\n",
       "      <th>course_id</th>\n",
       "      <th>course_title</th>\n",
       "      <th>url</th>\n",
       "      <th>is_paid</th>\n",
       "      <th>price</th>\n",
       "      <th>num_subscribers</th>\n",
       "      <th>num_reviews</th>\n",
       "      <th>num_lectures</th>\n",
       "      <th>level</th>\n",
       "      <th>content_duration</th>\n",
       "      <th>published_timestamp</th>\n",
       "      <th>subject</th>\n",
       "      <th>profit</th>\n",
       "      <th>published_date</th>\n",
       "      <th>published_time</th>\n",
       "      <th>year</th>\n",
       "      <th>month</th>\n",
       "      <th>day</th>\n",
       "    </tr>\n",
       "  </thead>\n",
       "  <tbody>\n",
       "    <tr>\n",
       "      <th>0</th>\n",
       "      <td>1070968</td>\n",
       "      <td>Ultimate Investment Banking Course</td>\n",
       "      <td>https://www.udemy.com/ultimate-investment-bank...</td>\n",
       "      <td>True</td>\n",
       "      <td>200</td>\n",
       "      <td>2147</td>\n",
       "      <td>23</td>\n",
       "      <td>51</td>\n",
       "      <td>All Levels</td>\n",
       "      <td>1.5 hours</td>\n",
       "      <td>2017-01-18T20:58:58Z</td>\n",
       "      <td>Business Finance</td>\n",
       "      <td>429400</td>\n",
       "      <td>2017-01-18</td>\n",
       "      <td>20:58:58Z</td>\n",
       "      <td>2017</td>\n",
       "      <td>1</td>\n",
       "      <td>18</td>\n",
       "    </tr>\n",
       "    <tr>\n",
       "      <th>1</th>\n",
       "      <td>1113822</td>\n",
       "      <td>Complete GST Course &amp; Certification - Grow You...</td>\n",
       "      <td>https://www.udemy.com/goods-and-services-tax/</td>\n",
       "      <td>True</td>\n",
       "      <td>75</td>\n",
       "      <td>2792</td>\n",
       "      <td>923</td>\n",
       "      <td>274</td>\n",
       "      <td>All Levels</td>\n",
       "      <td>39 hours</td>\n",
       "      <td>2017-03-09T16:34:20Z</td>\n",
       "      <td>Business Finance</td>\n",
       "      <td>209400</td>\n",
       "      <td>2017-03-09</td>\n",
       "      <td>16:34:20Z</td>\n",
       "      <td>2017</td>\n",
       "      <td>3</td>\n",
       "      <td>9</td>\n",
       "    </tr>\n",
       "    <tr>\n",
       "      <th>2</th>\n",
       "      <td>1006314</td>\n",
       "      <td>Financial Modeling for Business Analysts and C...</td>\n",
       "      <td>https://www.udemy.com/financial-modeling-for-b...</td>\n",
       "      <td>True</td>\n",
       "      <td>45</td>\n",
       "      <td>2174</td>\n",
       "      <td>74</td>\n",
       "      <td>51</td>\n",
       "      <td>Intermediate Level</td>\n",
       "      <td>2.5 hours</td>\n",
       "      <td>2016-12-19T19:26:30Z</td>\n",
       "      <td>Business Finance</td>\n",
       "      <td>97830</td>\n",
       "      <td>2016-12-19</td>\n",
       "      <td>19:26:30Z</td>\n",
       "      <td>2016</td>\n",
       "      <td>12</td>\n",
       "      <td>19</td>\n",
       "    </tr>\n",
       "    <tr>\n",
       "      <th>3</th>\n",
       "      <td>1210588</td>\n",
       "      <td>Beginner to Pro - Financial Analysis in Excel ...</td>\n",
       "      <td>https://www.udemy.com/complete-excel-finance-c...</td>\n",
       "      <td>True</td>\n",
       "      <td>95</td>\n",
       "      <td>2451</td>\n",
       "      <td>11</td>\n",
       "      <td>36</td>\n",
       "      <td>All Levels</td>\n",
       "      <td>3 hours</td>\n",
       "      <td>2017-05-30T20:07:24Z</td>\n",
       "      <td>Business Finance</td>\n",
       "      <td>232845</td>\n",
       "      <td>2017-05-30</td>\n",
       "      <td>20:07:24Z</td>\n",
       "      <td>2017</td>\n",
       "      <td>5</td>\n",
       "      <td>30</td>\n",
       "    </tr>\n",
       "    <tr>\n",
       "      <th>4</th>\n",
       "      <td>1011058</td>\n",
       "      <td>How To Maximize Your Profits Trading Options</td>\n",
       "      <td>https://www.udemy.com/how-to-maximize-your-pro...</td>\n",
       "      <td>True</td>\n",
       "      <td>200</td>\n",
       "      <td>1276</td>\n",
       "      <td>45</td>\n",
       "      <td>26</td>\n",
       "      <td>Intermediate Level</td>\n",
       "      <td>2 hours</td>\n",
       "      <td>2016-12-13T14:57:18Z</td>\n",
       "      <td>Business Finance</td>\n",
       "      <td>255200</td>\n",
       "      <td>2016-12-13</td>\n",
       "      <td>14:57:18Z</td>\n",
       "      <td>2016</td>\n",
       "      <td>12</td>\n",
       "      <td>13</td>\n",
       "    </tr>\n",
       "  </tbody>\n",
       "</table>\n",
       "</div>"
      ],
      "text/plain": [
       "   course_id                                       course_title  \\\n",
       "0    1070968                 Ultimate Investment Banking Course   \n",
       "1    1113822  Complete GST Course & Certification - Grow You...   \n",
       "2    1006314  Financial Modeling for Business Analysts and C...   \n",
       "3    1210588  Beginner to Pro - Financial Analysis in Excel ...   \n",
       "4    1011058       How To Maximize Your Profits Trading Options   \n",
       "\n",
       "                                                 url  is_paid  price  \\\n",
       "0  https://www.udemy.com/ultimate-investment-bank...     True    200   \n",
       "1      https://www.udemy.com/goods-and-services-tax/     True     75   \n",
       "2  https://www.udemy.com/financial-modeling-for-b...     True     45   \n",
       "3  https://www.udemy.com/complete-excel-finance-c...     True     95   \n",
       "4  https://www.udemy.com/how-to-maximize-your-pro...     True    200   \n",
       "\n",
       "   num_subscribers  num_reviews  num_lectures               level  \\\n",
       "0             2147           23            51          All Levels   \n",
       "1             2792          923           274          All Levels   \n",
       "2             2174           74            51  Intermediate Level   \n",
       "3             2451           11            36          All Levels   \n",
       "4             1276           45            26  Intermediate Level   \n",
       "\n",
       "  content_duration   published_timestamp           subject  profit  \\\n",
       "0        1.5 hours  2017-01-18T20:58:58Z  Business Finance  429400   \n",
       "1         39 hours  2017-03-09T16:34:20Z  Business Finance  209400   \n",
       "2        2.5 hours  2016-12-19T19:26:30Z  Business Finance   97830   \n",
       "3          3 hours  2017-05-30T20:07:24Z  Business Finance  232845   \n",
       "4          2 hours  2016-12-13T14:57:18Z  Business Finance  255200   \n",
       "\n",
       "  published_date published_time  year  month  day  \n",
       "0     2017-01-18      20:58:58Z  2017      1   18  \n",
       "1     2017-03-09      16:34:20Z  2017      3    9  \n",
       "2     2016-12-19      19:26:30Z  2016     12   19  \n",
       "3     2017-05-30      20:07:24Z  2017      5   30  \n",
       "4     2016-12-13      14:57:18Z  2016     12   13  "
      ]
     },
     "execution_count": 4,
     "metadata": {},
     "output_type": "execute_result"
    }
   ],
   "source": [
    "df.head()"
   ]
  },
  {
   "cell_type": "code",
   "execution_count": 5,
   "metadata": {},
   "outputs": [
    {
     "data": {
      "text/plain": [
       "(3683, 18)"
      ]
     },
     "execution_count": 5,
     "metadata": {},
     "output_type": "execute_result"
    }
   ],
   "source": [
    "df.shape"
   ]
  },
  {
   "cell_type": "code",
   "execution_count": 6,
   "metadata": {},
   "outputs": [],
   "source": [
    "def pre_process(text):\n",
    "\n",
    "    text = text.lower()\n",
    "    ## remove punctuation\n",
    "    pun = string.punctuation\n",
    "    pun = string.punctuation\n",
    "    text = text.translate(str.maketrans(\" \",\" \",pun))\n",
    "\n",
    "    text = text.split(\" \")\n",
    "    ## remove stop words\n",
    "    stop_words = stopwords.words(\"english\")\n",
    "    text = [word for word in text if word not in stop_words]\n",
    "\n",
    "   \n",
    "\n",
    "\n",
    "\n",
    "    return \" \".join(text)"
   ]
  },
  {
   "cell_type": "code",
   "execution_count": 7,
   "metadata": {},
   "outputs": [],
   "source": [
    "df['course_title'] = df['course_title'].apply(lambda x:pre_process(x))"
   ]
  },
  {
   "cell_type": "markdown",
   "metadata": {},
   "source": [
    "## vectorise the clean title\n"
   ]
  },
  {
   "cell_type": "code",
   "execution_count": 8,
   "metadata": {},
   "outputs": [],
   "source": [
    "cv = CountVectorizer()\n",
    "cvmat = cv.fit_transform(df['course_title'])"
   ]
  },
  {
   "cell_type": "code",
   "execution_count": 9,
   "metadata": {},
   "outputs": [
    {
     "data": {
      "text/plain": [
       "(3683, 3743)"
      ]
     },
     "execution_count": 9,
     "metadata": {},
     "output_type": "execute_result"
    }
   ],
   "source": [
    "cvmat.toarray().shape"
   ]
  },
  {
   "cell_type": "markdown",
   "metadata": {},
   "source": [
    "## cosin similarity"
   ]
  },
  {
   "cell_type": "code",
   "execution_count": 10,
   "metadata": {},
   "outputs": [],
   "source": [
    "cos_sim = cosine_similarity(cvmat)"
   ]
  },
  {
   "cell_type": "code",
   "execution_count": 11,
   "metadata": {},
   "outputs": [
    {
     "data": {
      "text/plain": [
       "array([[1.        , 0.18898224, 0.        , ..., 0.        , 0.        ,\n",
       "        0.        ],\n",
       "       [0.18898224, 1.        , 0.        , ..., 0.        , 0.        ,\n",
       "        0.        ],\n",
       "       [0.        , 0.        , 1.        , ..., 0.        , 0.        ,\n",
       "        0.        ],\n",
       "       ...,\n",
       "       [0.        , 0.        , 0.        , ..., 1.        , 0.        ,\n",
       "        0.37796447],\n",
       "       [0.        , 0.        , 0.        , ..., 0.        , 1.        ,\n",
       "        0.        ],\n",
       "       [0.        , 0.        , 0.        , ..., 0.37796447, 0.        ,\n",
       "        1.        ]])"
      ]
     },
     "execution_count": 11,
     "metadata": {},
     "output_type": "execute_result"
    }
   ],
   "source": [
    "cos_sim"
   ]
  },
  {
   "cell_type": "markdown",
   "metadata": {},
   "source": [
    "## Recommend course"
   ]
  },
  {
   "cell_type": "code",
   "execution_count": 12,
   "metadata": {},
   "outputs": [],
   "source": [
    "text = df['course_title'][0]"
   ]
  },
  {
   "cell_type": "code",
   "execution_count": 13,
   "metadata": {},
   "outputs": [],
   "source": [
    "#get the specific index of a title\n",
    "course_index = pd.Series(index=df['course_title'],data=df.index).drop_duplicates()\n",
    "index = course_index[text]\n",
    "\n"
   ]
  },
  {
   "cell_type": "code",
   "execution_count": 14,
   "metadata": {},
   "outputs": [],
   "source": [
    "enumerated_scores = list(enumerate(cos_sim[index]))"
   ]
  },
  {
   "cell_type": "code",
   "execution_count": 15,
   "metadata": {},
   "outputs": [],
   "source": [
    "sorted_scores = sorted(enumerated_scores, key=lambda x: x[1], reverse=True)[1:]"
   ]
  },
  {
   "cell_type": "code",
   "execution_count": 16,
   "metadata": {},
   "outputs": [],
   "source": [
    "sorted_index = [i[0] for i in sorted_scores]\n",
    "sorted_score = [i[1] for i in sorted_scores]"
   ]
  },
  {
   "cell_type": "code",
   "execution_count": 17,
   "metadata": {},
   "outputs": [],
   "source": [
    "temp_df = df.iloc[sorted_index]"
   ]
  },
  {
   "cell_type": "code",
   "execution_count": 18,
   "metadata": {},
   "outputs": [
    {
     "name": "stderr",
     "output_type": "stream",
     "text": [
      "C:\\Users\\Tafique Hossain Khan\\AppData\\Local\\Temp\\ipykernel_2792\\1180948622.py:1: SettingWithCopyWarning: \n",
      "A value is trying to be set on a copy of a slice from a DataFrame.\n",
      "Try using .loc[row_indexer,col_indexer] = value instead\n",
      "\n",
      "See the caveats in the documentation: https://pandas.pydata.org/pandas-docs/stable/user_guide/indexing.html#returning-a-view-versus-a-copy\n",
      "  temp_df['similarity_score'] = sorted_score\n"
     ]
    }
   ],
   "source": [
    "temp_df['similarity_score'] = sorted_score"
   ]
  },
  {
   "cell_type": "code",
   "execution_count": 19,
   "metadata": {},
   "outputs": [
    {
     "data": {
      "text/html": [
       "<div>\n",
       "<style scoped>\n",
       "    .dataframe tbody tr th:only-of-type {\n",
       "        vertical-align: middle;\n",
       "    }\n",
       "\n",
       "    .dataframe tbody tr th {\n",
       "        vertical-align: top;\n",
       "    }\n",
       "\n",
       "    .dataframe thead th {\n",
       "        text-align: right;\n",
       "    }\n",
       "</style>\n",
       "<table border=\"1\" class=\"dataframe\">\n",
       "  <thead>\n",
       "    <tr style=\"text-align: right;\">\n",
       "      <th></th>\n",
       "      <th>course_id</th>\n",
       "      <th>course_title</th>\n",
       "      <th>url</th>\n",
       "      <th>is_paid</th>\n",
       "      <th>price</th>\n",
       "      <th>num_subscribers</th>\n",
       "      <th>num_reviews</th>\n",
       "      <th>num_lectures</th>\n",
       "      <th>level</th>\n",
       "      <th>content_duration</th>\n",
       "      <th>published_timestamp</th>\n",
       "      <th>subject</th>\n",
       "      <th>profit</th>\n",
       "      <th>published_date</th>\n",
       "      <th>published_time</th>\n",
       "      <th>year</th>\n",
       "      <th>month</th>\n",
       "      <th>day</th>\n",
       "      <th>similarity_score</th>\n",
       "    </tr>\n",
       "  </thead>\n",
       "  <tbody>\n",
       "    <tr>\n",
       "      <th>39</th>\n",
       "      <td>965832</td>\n",
       "      <td>complete investment banking course 2017</td>\n",
       "      <td>https://www.udemy.com/the-complete-investment-...</td>\n",
       "      <td>True</td>\n",
       "      <td>195</td>\n",
       "      <td>8575</td>\n",
       "      <td>809</td>\n",
       "      <td>110</td>\n",
       "      <td>All Levels</td>\n",
       "      <td>5.5 hours</td>\n",
       "      <td>2016-10-10T16:16:26Z</td>\n",
       "      <td>Business Finance</td>\n",
       "      <td>1672125</td>\n",
       "      <td>2016-10-10</td>\n",
       "      <td>16:16:26Z</td>\n",
       "      <td>2016</td>\n",
       "      <td>10</td>\n",
       "      <td>10</td>\n",
       "      <td>0.67082</td>\n",
       "    </tr>\n",
       "  </tbody>\n",
       "</table>\n",
       "</div>"
      ],
      "text/plain": [
       "    course_id                             course_title  \\\n",
       "39     965832  complete investment banking course 2017   \n",
       "\n",
       "                                                  url  is_paid  price  \\\n",
       "39  https://www.udemy.com/the-complete-investment-...     True    195   \n",
       "\n",
       "    num_subscribers  num_reviews  num_lectures       level content_duration  \\\n",
       "39             8575          809           110  All Levels        5.5 hours   \n",
       "\n",
       "     published_timestamp           subject   profit published_date  \\\n",
       "39  2016-10-10T16:16:26Z  Business Finance  1672125     2016-10-10   \n",
       "\n",
       "   published_time  year  month  day  similarity_score  \n",
       "39      16:16:26Z  2016     10   10           0.67082  "
      ]
     },
     "execution_count": 19,
     "metadata": {},
     "output_type": "execute_result"
    }
   ],
   "source": [
    "temp_df.head(1)"
   ]
  },
  {
   "cell_type": "code",
   "execution_count": 20,
   "metadata": {},
   "outputs": [],
   "source": [
    "final_recommended_course = temp_df[['course_title','url','similarity_score','price']]"
   ]
  },
  {
   "cell_type": "code",
   "execution_count": 21,
   "metadata": {},
   "outputs": [
    {
     "data": {
      "text/html": [
       "<div>\n",
       "<style scoped>\n",
       "    .dataframe tbody tr th:only-of-type {\n",
       "        vertical-align: middle;\n",
       "    }\n",
       "\n",
       "    .dataframe tbody tr th {\n",
       "        vertical-align: top;\n",
       "    }\n",
       "\n",
       "    .dataframe thead th {\n",
       "        text-align: right;\n",
       "    }\n",
       "</style>\n",
       "<table border=\"1\" class=\"dataframe\">\n",
       "  <thead>\n",
       "    <tr style=\"text-align: right;\">\n",
       "      <th></th>\n",
       "      <th>course_title</th>\n",
       "      <th>url</th>\n",
       "      <th>similarity_score</th>\n",
       "      <th>price</th>\n",
       "    </tr>\n",
       "  </thead>\n",
       "  <tbody>\n",
       "    <tr>\n",
       "      <th>39</th>\n",
       "      <td>complete investment banking course 2017</td>\n",
       "      <td>https://www.udemy.com/the-complete-investment-...</td>\n",
       "      <td>0.67082</td>\n",
       "      <td>195</td>\n",
       "    </tr>\n",
       "    <tr>\n",
       "      <th>3479</th>\n",
       "      <td>ultimate jquery course</td>\n",
       "      <td>https://www.udemy.com/essential-jquery-training/</td>\n",
       "      <td>0.57735</td>\n",
       "      <td>20</td>\n",
       "    </tr>\n",
       "    <tr>\n",
       "      <th>242</th>\n",
       "      <td>advanced accounting investment banking</td>\n",
       "      <td>https://www.udemy.com/advanced-accounting-for-...</td>\n",
       "      <td>0.50000</td>\n",
       "      <td>50</td>\n",
       "    </tr>\n",
       "    <tr>\n",
       "      <th>419</th>\n",
       "      <td>investment banking recruitment series</td>\n",
       "      <td>https://www.udemy.com/investmentbanking/</td>\n",
       "      <td>0.50000</td>\n",
       "      <td>40</td>\n",
       "    </tr>\n",
       "    <tr>\n",
       "      <th>2719</th>\n",
       "      <td>ultimate web development course</td>\n",
       "      <td>https://www.udemy.com/build-an-instant-update-...</td>\n",
       "      <td>0.50000</td>\n",
       "      <td>50</td>\n",
       "    </tr>\n",
       "    <tr>\n",
       "      <th>2807</th>\n",
       "      <td>ultimate wordpress plugin course</td>\n",
       "      <td>https://www.udemy.com/wordpress-plugin-course/</td>\n",
       "      <td>0.50000</td>\n",
       "      <td>100</td>\n",
       "    </tr>\n",
       "  </tbody>\n",
       "</table>\n",
       "</div>"
      ],
      "text/plain": [
       "                                 course_title  \\\n",
       "39    complete investment banking course 2017   \n",
       "3479                   ultimate jquery course   \n",
       "242    advanced accounting investment banking   \n",
       "419     investment banking recruitment series   \n",
       "2719          ultimate web development course   \n",
       "2807         ultimate wordpress plugin course   \n",
       "\n",
       "                                                    url  similarity_score  \\\n",
       "39    https://www.udemy.com/the-complete-investment-...           0.67082   \n",
       "3479   https://www.udemy.com/essential-jquery-training/           0.57735   \n",
       "242   https://www.udemy.com/advanced-accounting-for-...           0.50000   \n",
       "419            https://www.udemy.com/investmentbanking/           0.50000   \n",
       "2719  https://www.udemy.com/build-an-instant-update-...           0.50000   \n",
       "2807     https://www.udemy.com/wordpress-plugin-course/           0.50000   \n",
       "\n",
       "      price  \n",
       "39      195  \n",
       "3479     20  \n",
       "242      50  \n",
       "419      40  \n",
       "2719     50  \n",
       "2807    100  "
      ]
     },
     "execution_count": 21,
     "metadata": {},
     "output_type": "execute_result"
    }
   ],
   "source": [
    "final_recommended_course[final_recommended_course['similarity_score']>=0.5]"
   ]
  },
  {
   "cell_type": "code",
   "execution_count": 22,
   "metadata": {},
   "outputs": [
    {
     "data": {
      "text/html": [
       "<div>\n",
       "<style scoped>\n",
       "    .dataframe tbody tr th:only-of-type {\n",
       "        vertical-align: middle;\n",
       "    }\n",
       "\n",
       "    .dataframe tbody tr th {\n",
       "        vertical-align: top;\n",
       "    }\n",
       "\n",
       "    .dataframe thead th {\n",
       "        text-align: right;\n",
       "    }\n",
       "</style>\n",
       "<table border=\"1\" class=\"dataframe\">\n",
       "  <thead>\n",
       "    <tr style=\"text-align: right;\">\n",
       "      <th></th>\n",
       "      <th>course_title</th>\n",
       "      <th>url</th>\n",
       "      <th>similarity_score</th>\n",
       "      <th>price</th>\n",
       "    </tr>\n",
       "  </thead>\n",
       "  <tbody>\n",
       "    <tr>\n",
       "      <th>39</th>\n",
       "      <td>complete investment banking course 2017</td>\n",
       "      <td>https://www.udemy.com/the-complete-investment-...</td>\n",
       "      <td>0.67082</td>\n",
       "      <td>195</td>\n",
       "    </tr>\n",
       "    <tr>\n",
       "      <th>3479</th>\n",
       "      <td>ultimate jquery course</td>\n",
       "      <td>https://www.udemy.com/essential-jquery-training/</td>\n",
       "      <td>0.57735</td>\n",
       "      <td>20</td>\n",
       "    </tr>\n",
       "    <tr>\n",
       "      <th>242</th>\n",
       "      <td>advanced accounting investment banking</td>\n",
       "      <td>https://www.udemy.com/advanced-accounting-for-...</td>\n",
       "      <td>0.50000</td>\n",
       "      <td>50</td>\n",
       "    </tr>\n",
       "    <tr>\n",
       "      <th>419</th>\n",
       "      <td>investment banking recruitment series</td>\n",
       "      <td>https://www.udemy.com/investmentbanking/</td>\n",
       "      <td>0.50000</td>\n",
       "      <td>40</td>\n",
       "    </tr>\n",
       "    <tr>\n",
       "      <th>2719</th>\n",
       "      <td>ultimate web development course</td>\n",
       "      <td>https://www.udemy.com/build-an-instant-update-...</td>\n",
       "      <td>0.50000</td>\n",
       "      <td>50</td>\n",
       "    </tr>\n",
       "    <tr>\n",
       "      <th>...</th>\n",
       "      <td>...</td>\n",
       "      <td>...</td>\n",
       "      <td>...</td>\n",
       "      <td>...</td>\n",
       "    </tr>\n",
       "    <tr>\n",
       "      <th>3678</th>\n",
       "      <td>learn jquery scratch  master javascript library</td>\n",
       "      <td>https://www.udemy.com/easy-jquery-for-beginner...</td>\n",
       "      <td>0.00000</td>\n",
       "      <td>100</td>\n",
       "    </tr>\n",
       "    <tr>\n",
       "      <th>3679</th>\n",
       "      <td>design wordpress website coding</td>\n",
       "      <td>https://www.udemy.com/how-to-make-a-wordpress-...</td>\n",
       "      <td>0.00000</td>\n",
       "      <td>25</td>\n",
       "    </tr>\n",
       "    <tr>\n",
       "      <th>3680</th>\n",
       "      <td>learn build using polymer</td>\n",
       "      <td>https://www.udemy.com/learn-and-build-using-po...</td>\n",
       "      <td>0.00000</td>\n",
       "      <td>40</td>\n",
       "    </tr>\n",
       "    <tr>\n",
       "      <th>3681</th>\n",
       "      <td>css animations create amazing effects website</td>\n",
       "      <td>https://www.udemy.com/css-animations-create-am...</td>\n",
       "      <td>0.00000</td>\n",
       "      <td>50</td>\n",
       "    </tr>\n",
       "    <tr>\n",
       "      <th>3682</th>\n",
       "      <td>using modx cms build websites beginners guide</td>\n",
       "      <td>https://www.udemy.com/using-modx-cms-to-build-...</td>\n",
       "      <td>0.00000</td>\n",
       "      <td>45</td>\n",
       "    </tr>\n",
       "  </tbody>\n",
       "</table>\n",
       "<p>3682 rows × 4 columns</p>\n",
       "</div>"
      ],
      "text/plain": [
       "                                         course_title  \\\n",
       "39            complete investment banking course 2017   \n",
       "3479                           ultimate jquery course   \n",
       "242            advanced accounting investment banking   \n",
       "419             investment banking recruitment series   \n",
       "2719                  ultimate web development course   \n",
       "...                                               ...   \n",
       "3678  learn jquery scratch  master javascript library   \n",
       "3679                  design wordpress website coding   \n",
       "3680                        learn build using polymer   \n",
       "3681    css animations create amazing effects website   \n",
       "3682    using modx cms build websites beginners guide   \n",
       "\n",
       "                                                    url  similarity_score  \\\n",
       "39    https://www.udemy.com/the-complete-investment-...           0.67082   \n",
       "3479   https://www.udemy.com/essential-jquery-training/           0.57735   \n",
       "242   https://www.udemy.com/advanced-accounting-for-...           0.50000   \n",
       "419            https://www.udemy.com/investmentbanking/           0.50000   \n",
       "2719  https://www.udemy.com/build-an-instant-update-...           0.50000   \n",
       "...                                                 ...               ...   \n",
       "3678  https://www.udemy.com/easy-jquery-for-beginner...           0.00000   \n",
       "3679  https://www.udemy.com/how-to-make-a-wordpress-...           0.00000   \n",
       "3680  https://www.udemy.com/learn-and-build-using-po...           0.00000   \n",
       "3681  https://www.udemy.com/css-animations-create-am...           0.00000   \n",
       "3682  https://www.udemy.com/using-modx-cms-to-build-...           0.00000   \n",
       "\n",
       "      price  \n",
       "39      195  \n",
       "3479     20  \n",
       "242      50  \n",
       "419      40  \n",
       "2719     50  \n",
       "...     ...  \n",
       "3678    100  \n",
       "3679     25  \n",
       "3680     40  \n",
       "3681     50  \n",
       "3682     45  \n",
       "\n",
       "[3682 rows x 4 columns]"
      ]
     },
     "execution_count": 22,
     "metadata": {},
     "output_type": "execute_result"
    }
   ],
   "source": [
    "final_recommended_course"
   ]
  },
  {
   "cell_type": "code",
   "execution_count": 23,
   "metadata": {},
   "outputs": [],
   "source": [
    "def recommend_course(df,no_of_course,text):\n",
    "    #get the specific index of a title\n",
    "    course_index = pd.Series(index=df['course_title'],data=df.index).drop_duplicates()\n",
    "    index = course_index[text]\n",
    "    enumerated_scores = list(enumerate(cos_sim[index]))\n",
    "    sorted_scores = sorted(enumerated_scores, key=lambda x: x[1], reverse=True)[1:]\n",
    "\n",
    "    sorted_index = [i[0] for i in sorted_scores]\n",
    "    sorted_score = [i[1] for i in sorted_scores]\n",
    "    temp_df = df.iloc[sorted_index]\n",
    "\n",
    "    temp_df['similarity_score'] = sorted_score\n",
    "\n",
    "    final_recommended_course = temp_df[['course_title','url','similarity_score','price']]\n",
    "    final_recommended_course = final_recommended_course[final_recommended_course['similarity_score']>=0.5].head(no_of_course)\n",
    "    return final_recommended_course"
   ]
  },
  {
   "cell_type": "code",
   "execution_count": 24,
   "metadata": {},
   "outputs": [
    {
     "data": {
      "text/plain": [
       "'ultimate investment banking course'"
      ]
     },
     "execution_count": 24,
     "metadata": {},
     "output_type": "execute_result"
    }
   ],
   "source": [
    "df['course_title'][0]"
   ]
  },
  {
   "cell_type": "code",
   "execution_count": 25,
   "metadata": {},
   "outputs": [
    {
     "name": "stderr",
     "output_type": "stream",
     "text": [
      "C:\\Users\\Tafique Hossain Khan\\AppData\\Local\\Temp\\ipykernel_2792\\369221961.py:12: SettingWithCopyWarning: \n",
      "A value is trying to be set on a copy of a slice from a DataFrame.\n",
      "Try using .loc[row_indexer,col_indexer] = value instead\n",
      "\n",
      "See the caveats in the documentation: https://pandas.pydata.org/pandas-docs/stable/user_guide/indexing.html#returning-a-view-versus-a-copy\n",
      "  temp_df['similarity_score'] = sorted_score\n"
     ]
    }
   ],
   "source": [
    "ans = recommend_course(df,6,'non directional weekly options trading system  etf  emini')"
   ]
  },
  {
   "cell_type": "code",
   "execution_count": 26,
   "metadata": {},
   "outputs": [
    {
     "data": {
      "text/plain": [
       "'https://www.udemy.com/emini-es-futures-advanced-non-directional-options-trading/'"
      ]
     },
     "execution_count": 26,
     "metadata": {},
     "output_type": "execute_result"
    }
   ],
   "source": [
    "df['url'][89]"
   ]
  },
  {
   "cell_type": "code",
   "execution_count": 27,
   "metadata": {},
   "outputs": [
    {
     "data": {
      "text/html": [
       "<div>\n",
       "<style scoped>\n",
       "    .dataframe tbody tr th:only-of-type {\n",
       "        vertical-align: middle;\n",
       "    }\n",
       "\n",
       "    .dataframe tbody tr th {\n",
       "        vertical-align: top;\n",
       "    }\n",
       "\n",
       "    .dataframe thead th {\n",
       "        text-align: right;\n",
       "    }\n",
       "</style>\n",
       "<table border=\"1\" class=\"dataframe\">\n",
       "  <thead>\n",
       "    <tr style=\"text-align: right;\">\n",
       "      <th></th>\n",
       "      <th>course_title</th>\n",
       "      <th>url</th>\n",
       "      <th>similarity_score</th>\n",
       "      <th>price</th>\n",
       "    </tr>\n",
       "  </thead>\n",
       "  <tbody>\n",
       "    <tr>\n",
       "      <th>89</th>\n",
       "      <td>emini es futures  advanced non directional opt...</td>\n",
       "      <td>https://www.udemy.com/emini-es-futures-advance...</td>\n",
       "      <td>0.625000</td>\n",
       "      <td>200</td>\n",
       "    </tr>\n",
       "    <tr>\n",
       "      <th>43</th>\n",
       "      <td>options trading  win weekly options</td>\n",
       "      <td>https://www.udemy.com/work-from-home-setup-you...</td>\n",
       "      <td>0.534522</td>\n",
       "      <td>115</td>\n",
       "    </tr>\n",
       "    <tr>\n",
       "      <th>514</th>\n",
       "      <td>winning options trading system</td>\n",
       "      <td>https://www.udemy.com/winning-options-trading-...</td>\n",
       "      <td>0.530330</td>\n",
       "      <td>105</td>\n",
       "    </tr>\n",
       "    <tr>\n",
       "      <th>991</th>\n",
       "      <td>simple options trading system</td>\n",
       "      <td>https://www.udemy.com/safe-and-easy-options-tr...</td>\n",
       "      <td>0.530330</td>\n",
       "      <td>35</td>\n",
       "    </tr>\n",
       "  </tbody>\n",
       "</table>\n",
       "</div>"
      ],
      "text/plain": [
       "                                          course_title  \\\n",
       "89   emini es futures  advanced non directional opt...   \n",
       "43                 options trading  win weekly options   \n",
       "514                     winning options trading system   \n",
       "991                      simple options trading system   \n",
       "\n",
       "                                                   url  similarity_score  \\\n",
       "89   https://www.udemy.com/emini-es-futures-advance...          0.625000   \n",
       "43   https://www.udemy.com/work-from-home-setup-you...          0.534522   \n",
       "514  https://www.udemy.com/winning-options-trading-...          0.530330   \n",
       "991  https://www.udemy.com/safe-and-easy-options-tr...          0.530330   \n",
       "\n",
       "     price  \n",
       "89     200  \n",
       "43     115  \n",
       "514    105  \n",
       "991     35  "
      ]
     },
     "execution_count": 27,
     "metadata": {},
     "output_type": "execute_result"
    }
   ],
   "source": [
    "ans"
   ]
  },
  {
   "cell_type": "code",
   "execution_count": 28,
   "metadata": {},
   "outputs": [
    {
     "data": {
      "text/plain": [
       "['emini es futures  advanced non directional options trading',\n",
       " 'options trading  win weekly options',\n",
       " 'winning options trading system',\n",
       " 'simple options trading system']"
      ]
     },
     "execution_count": 28,
     "metadata": {},
     "output_type": "execute_result"
    }
   ],
   "source": [
    "list(ans['course_title'])"
   ]
  },
  {
   "cell_type": "code",
   "execution_count": 29,
   "metadata": {},
   "outputs": [
    {
     "data": {
      "text/plain": [
       "['https://www.udemy.com/emini-es-futures-advanced-non-directional-options-trading/',\n",
       " 'https://www.udemy.com/work-from-home-setup-your-own-options-trading-business/',\n",
       " 'https://www.udemy.com/winning-options-trading-system/',\n",
       " 'https://www.udemy.com/safe-and-easy-options-trading/']"
      ]
     },
     "execution_count": 29,
     "metadata": {},
     "output_type": "execute_result"
    }
   ],
   "source": [
    "list(ans['url'])"
   ]
  },
  {
   "cell_type": "code",
   "execution_count": 30,
   "metadata": {},
   "outputs": [
    {
     "data": {
      "text/plain": [
       "{'emini es futures  advanced non directional options trading': 'https://www.udemy.com/emini-es-futures-advanced-non-directional-options-trading/',\n",
       " 'options trading  win weekly options': 'https://www.udemy.com/work-from-home-setup-your-own-options-trading-business/',\n",
       " 'winning options trading system': 'https://www.udemy.com/winning-options-trading-system/',\n",
       " 'simple options trading system': 'https://www.udemy.com/safe-and-easy-options-trading/'}"
      ]
     },
     "execution_count": 30,
     "metadata": {},
     "output_type": "execute_result"
    }
   ],
   "source": [
    "dict(zip(list(ans['course_title']),list(ans['url'])))"
   ]
  },
  {
   "cell_type": "markdown",
   "metadata": {},
   "source": [
    "## recommending courese based on the keyword"
   ]
  },
  {
   "cell_type": "code",
   "execution_count": 66,
   "metadata": {},
   "outputs": [],
   "source": [
    "result_df = df[df['course_title'].str.contains('python')].sort_values(by='num_reviews',ascending=False).head(6)"
   ]
  },
  {
   "cell_type": "code",
   "execution_count": 67,
   "metadata": {},
   "outputs": [
    {
     "data": {
      "text/plain": [
       "3205      python django full stack web developer bootcamp\n",
       "3143    complete python web course build 8 python web ...\n",
       "2575             coding entrepreneurs learn python django\n",
       "3208                               rest apis flask python\n",
       "3165      professional python web development using flask\n",
       "3512           fun creative web engineering python web2py\n",
       "Name: course_title, dtype: object"
      ]
     },
     "execution_count": 67,
     "metadata": {},
     "output_type": "execute_result"
    }
   ],
   "source": [
    "result_df['course_title']"
   ]
  },
  {
   "cell_type": "code",
   "execution_count": null,
   "metadata": {},
   "outputs": [],
   "source": []
  }
 ],
 "metadata": {
  "kernelspec": {
   "display_name": "Python 3",
   "language": "python",
   "name": "python3"
  },
  "language_info": {
   "codemirror_mode": {
    "name": "ipython",
    "version": 3
   },
   "file_extension": ".py",
   "mimetype": "text/x-python",
   "name": "python",
   "nbconvert_exporter": "python",
   "pygments_lexer": "ipython3",
   "version": "3.10.7"
  }
 },
 "nbformat": 4,
 "nbformat_minor": 2
}
